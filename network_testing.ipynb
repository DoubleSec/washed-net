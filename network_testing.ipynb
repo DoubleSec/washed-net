{
 "cells": [
  {
   "cell_type": "code",
   "execution_count": null,
   "metadata": {},
   "outputs": [],
   "source": [
    "from wn import net\n",
    "from wn.data import MatchDataset\n",
    "\n",
    "import torch\n",
    "from torch.utils.data import DataLoader\n",
    "from torch import nn\n",
    "from torch.optim import AdamW\n",
    "\n",
    "import pickle\n",
    "import os"
   ]
  },
  {
   "cell_type": "code",
   "execution_count": null,
   "metadata": {},
   "outputs": [],
   "source": [
    "# Load the tensorized data\n",
    "with open(\"data/tensor_list.pkl\", \"rb\") as f:\n",
    "    input_data, y  = pickle.load(f)\n",
    "\n",
    "ds = MatchDataset(input_data, y)\n",
    "\n",
    "# Load the interface\n",
    "with open(\"data/match_interface.pkl\", \"rb\") as f:\n",
    "    match_interface = pickle.load(f)"
   ]
  },
  {
   "cell_type": "code",
   "execution_count": null,
   "metadata": {},
   "outputs": [],
   "source": [
    "# Set up the network for a test.\n",
    "\n",
    "# Special tabular input layer\n",
    "input_layer = net.TabularInputLayer(\n",
    "    interface=match_interface,\n",
    "    col_encoding_size=32,\n",
    "    embedding_size=96,\n",
    "    append_cls=True,\n",
    ")\n",
    "\n",
    "# Transformer encoder\n",
    "tr = nn.TransformerEncoder(\n",
    "    encoder_layer = nn.TransformerEncoderLayer(\n",
    "        d_model=128,\n",
    "        nhead=4,\n",
    "        dim_feedforward=256,\n",
    "        batch_first=True,\n",
    "    ),\n",
    "    num_layers=4,\n",
    ")\n",
    "\n",
    "# Ugly convenience layer\n",
    "cls_selector = net.SelectCLSEncoding()\n",
    "\n",
    "# Output layer\n",
    "output_layers = net.OutputLayers(128, 3, 1)\n",
    "\n",
    "whole_net = nn.Sequential(\n",
    "    input_layer,\n",
    "    tr,\n",
    "    cls_selector,\n",
    "    output_layers,\n",
    ")\n",
    "\n",
    "print(f\"Network has {sum([p.numel() for p in whole_net.parameters() if p.requires_grad])} weights.\")"
   ]
  },
  {
   "cell_type": "code",
   "execution_count": null,
   "metadata": {},
   "outputs": [],
   "source": [
    "# Example training step\n",
    "# Create a dataloader, optimizer, and criterion\n",
    "dl = DataLoader(ds, batch_size=64, shuffle=True)\n",
    "print(f\"{len(dl)} batches\")\n",
    "\n",
    "optimizer = AdamW([p for p in whole_net.parameters() if p.requires_grad])\n",
    "criterion = nn.BCEWithLogitsLoss(reduction=\"sum\")\n",
    "\n",
    "whole_net.train()\n",
    "\n",
    "for i, batch in enumerate(dl):\n",
    "    optimizer.zero_grad()\n",
    "\n",
    "    # Get a batch\n",
    "    x, y = batch\n",
    "\n",
    "    y_hat = whole_net(x)\n",
    "\n",
    "    loss = criterion(y_hat, y)\n",
    "    loss.sum().backward()\n",
    "\n",
    "    optimizer.step()\n",
    "    \n",
    "    if i % 20 == 19:\n",
    "        print(loss.sum())"
   ]
  }
 ],
 "metadata": {
  "kernelspec": {
   "display_name": "Python 3.9.2 64-bit",
   "language": "python",
   "name": "python3"
  },
  "language_info": {
   "codemirror_mode": {
    "name": "ipython",
    "version": 3
   },
   "file_extension": ".py",
   "mimetype": "text/x-python",
   "name": "python",
   "nbconvert_exporter": "python",
   "pygments_lexer": "ipython3",
   "version": "3.9.2"
  },
  "orig_nbformat": 4,
  "vscode": {
   "interpreter": {
    "hash": "916dbcbb3f70747c44a77c7bcd40155683ae19c65e1c03b4aa3499c5328201f1"
   }
  }
 },
 "nbformat": 4,
 "nbformat_minor": 2
}
