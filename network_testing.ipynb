{
 "cells": [
  {
   "cell_type": "code",
   "execution_count": null,
   "metadata": {},
   "outputs": [],
   "source": [
    "from wn import net\n",
    "\n",
    "import pandas as pd\n",
    "import numpy as np\n",
    "\n",
    "import torch\n",
    "from torch.utils.data import Dataset\n",
    "from torch import nn\n",
    "\n",
    "import pickle\n",
    "import os"
   ]
  },
  {
   "cell_type": "code",
   "execution_count": null,
   "metadata": {},
   "outputs": [],
   "source": [
    "# Load the tensorized data\n",
    "with open(\"data/tensor_list.pkl\", \"rb\") as f:\n",
    "    input_data, y  = pickle.load(f)\n",
    "\n",
    "# Load the interface\n",
    "with open(\"data/match_interface.pkl\", \"rb\") as f:\n",
    "    match_interface = pickle.load(f)"
   ]
  },
  {
   "cell_type": "code",
   "execution_count": null,
   "metadata": {},
   "outputs": [],
   "source": [
    "# This is what a size 16 batch should look like.\n",
    "testo = {k: v[0:16, :] for k, v in input_data.items()}"
   ]
  },
  {
   "cell_type": "code",
   "execution_count": null,
   "metadata": {},
   "outputs": [],
   "source": [
    "# Make an input layer\n",
    "input_layer = net.TabularInputLayer(\n",
    "    interface=match_interface,\n",
    "    col_encoding_size=32,\n",
    "    embedding_size=96,\n",
    "    append_cls=True,\n",
    ")\n",
    "\n",
    "# Transformer encoder\n",
    "tr = nn.TransformerEncoder(\n",
    "    encoder_layer = nn.TransformerEncoderLayer(\n",
    "        d_model=128,\n",
    "        nhead=4,\n",
    "        dim_feedforward=256,\n",
    "        batch_first=True,\n",
    "    ),\n",
    "    num_layers=4,\n",
    ")\n",
    "\n",
    "# Ugly convenience layer\n",
    "cls_selector = net.SelectCLSEncoding()\n",
    "\n",
    "# Output layer\n",
    "output_layers = net.OutputLayers(128, 3, 1)\n",
    "\n",
    "whole_net = nn.Sequential(\n",
    "    input_layer,\n",
    "    tr,\n",
    "    cls_selector,\n",
    "    output_layers,\n",
    ")"
   ]
  },
  {
   "cell_type": "code",
   "execution_count": null,
   "metadata": {},
   "outputs": [],
   "source": [
    "whole_net(testo)"
   ]
  }
 ],
 "metadata": {
  "kernelspec": {
   "display_name": "Python 3.9.2 64-bit",
   "language": "python",
   "name": "python3"
  },
  "language_info": {
   "codemirror_mode": {
    "name": "ipython",
    "version": 3
   },
   "file_extension": ".py",
   "mimetype": "text/x-python",
   "name": "python",
   "nbconvert_exporter": "python",
   "pygments_lexer": "ipython3",
   "version": "3.9.2"
  },
  "orig_nbformat": 4,
  "vscode": {
   "interpreter": {
    "hash": "916dbcbb3f70747c44a77c7bcd40155683ae19c65e1c03b4aa3499c5328201f1"
   }
  }
 },
 "nbformat": 4,
 "nbformat_minor": 2
}
