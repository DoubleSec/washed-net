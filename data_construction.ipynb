{
 "cells": [
  {
   "cell_type": "code",
   "execution_count": 84,
   "metadata": {},
   "outputs": [],
   "source": [
    "from wn.data import prepare_matches\n",
    "import pandas as pd\n",
    "\n",
    "import torch\n",
    "from torch.utils.data import Dataset"
   ]
  },
  {
   "cell_type": "code",
   "execution_count": 82,
   "metadata": {},
   "outputs": [],
   "source": [
    "match_list = [f\"../tennis_atp/atp_matches_{year}.csv\" for year in range(1968, 2018)]\n",
    "matches = prepare_matches(match_list)\n",
    "\n",
    "players = pd.read_csv(\"../tennis_atp/atp_players.csv\")"
   ]
  },
  {
   "cell_type": "markdown",
   "metadata": {},
   "source": [
    "So the idea is to:\n",
    "\n",
    "  1) Sample a random match\n",
    "  2) Identify both players\n",
    "  3) Retrieve their fixed tabular features\n",
    "  4) Add the match time to the tabular features\n",
    "  4) Retrieve the players' last *n* matches\n",
    "  5) Predict for both players (separately)"
   ]
  },
  {
   "cell_type": "code",
   "execution_count": 83,
   "metadata": {},
   "outputs": [],
   "source": [
    "# Add days elapsed from 1900\n",
    "matches.tourney_date = pd.to_datetime(matches.tourney_date.astype(\"str\"))\n",
    "matches[\"days_elapsed_date\"] = (matches.tourney_date - pd.to_datetime(\"19000101\")).dt.days\n",
    "\n",
    "# Removing missing birthday players for now\n",
    "players.dob = pd.to_datetime(players.dob.astype(\"str\"), errors=\"coerce\")\n",
    "players = players[~players.dob.isna()].reset_index(drop=True)\n",
    "\n",
    "# Remove matches with players with unknown birthdays\n",
    "matches = matches.loc[\n",
    "    matches.winner_id.isin(players.player_id)\n",
    "    & matches.loser_id.isin(players.player_id)\n",
    "].reset_index(drop=True)"
   ]
  },
  {
   "cell_type": "code",
   "execution_count": 109,
   "metadata": {},
   "outputs": [],
   "source": [
    "class MatchDataset(Dataset):\n",
    "\n",
    "    def __init__(self, matches, players, t_interface: dict, s_interface: dict):\n",
    "\n",
    "        super().__init__()\n",
    "\n",
    "        self.matches = matches\n",
    "        self.players = players\n",
    "\n",
    "        # The idea here is to specify what data you want and in what form.\n",
    "        self.t_interface = t_interface\n",
    "        self.s_interface = s_interface\n",
    "\n",
    "        # Make an index\n",
    "        self.index = (\n",
    "            [(row, row.winner_id) for row in self.matches.itertuples()] \n",
    "            + [(row, row.loser_id) for row in self.matches.itertuples()] \n",
    "        )\n",
    "\n",
    "    def __len__(self):\n",
    "        return len(self.index)\n",
    "\n",
    "    def __getitem__(self, idx):\n",
    "\n",
    "        match, player_id = self.index[idx]\n",
    "        match_date = match.days_elapsed_date\n",
    "\n",
    "        # TKTK better ordering on matches.\n",
    "        player_matches = self.matches.loc[\n",
    "            (self.matches.winner_id.eq(player_id) | self.matches.loser_id.eq(player_id)) \n",
    "            & self.matches.days_elapsed_date.ge(match_date - 365) \n",
    "            & self.matches.days_elapsed_date.lt(match_date)\n",
    "        ]\n",
    "        player_fixed_features = self.players.loc[players.player_id.eq(winner_id)]\n",
    "\n",
    "        return {\n",
    "            \"match_features\": match,\n",
    "            \"match_history\": player_matches,\n",
    "            \"fixed_features\": player_fixed_features,\n",
    "        }"
   ]
  },
  {
   "cell_type": "code",
   "execution_count": 110,
   "metadata": {},
   "outputs": [],
   "source": [
    "ds = MatchDataset(matches, players, None, None)"
   ]
  }
 ],
 "metadata": {
  "kernelspec": {
   "display_name": "Python 3.9.7 ('baseline')",
   "language": "python",
   "name": "python3"
  },
  "language_info": {
   "codemirror_mode": {
    "name": "ipython",
    "version": 3
   },
   "file_extension": ".py",
   "mimetype": "text/x-python",
   "name": "python",
   "nbconvert_exporter": "python",
   "pygments_lexer": "ipython3",
   "version": "3.9.7"
  },
  "orig_nbformat": 4,
  "vscode": {
   "interpreter": {
    "hash": "291dcdae170933e08c3f9016f10c218fbb5d40357e1e42650a6c2e55d1657006"
   }
  }
 },
 "nbformat": 4,
 "nbformat_minor": 2
}
