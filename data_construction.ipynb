{
 "cells": [
  {
   "cell_type": "code",
   "execution_count": 1,
   "metadata": {},
   "outputs": [],
   "source": [
    "from wn.data import prepare_matches, DataInterface\n",
    "import pandas as pd\n",
    "\n",
    "import torch\n",
    "from torch.utils.data import Dataset\n",
    "\n",
    "import pickle\n",
    "import os"
   ]
  },
  {
   "cell_type": "markdown",
   "metadata": {},
   "source": [
    "So the idea is to:\n",
    "\n",
    "  1) Sample a random match\n",
    "  2) Identify both players\n",
    "  3) Retrieve their fixed tabular features\n",
    "  4) Add the match time to the tabular features\n",
    "  4) Retrieve the players' last *n* matches\n",
    "  5) Predict for both players (separately)"
   ]
  },
  {
   "cell_type": "code",
   "execution_count": 2,
   "metadata": {},
   "outputs": [],
   "source": [
    "if os.path.exists(\"processed_data.pkl\"):\n",
    "\n",
    "    with open(\"processed_data.pkl\", \"rb\") as f:\n",
    "        players, matches = pickle.load(f)\n",
    "\n",
    "else:\n",
    "\n",
    "    match_list = [f\"../tennis_atp/atp_matches_{year}.csv\" for year in range(1968, 2018)]\n",
    "    matches = prepare_matches(match_list)\n",
    "\n",
    "    players = pd.read_csv(\"../tennis_atp/atp_players.csv\")\n",
    "    \n",
    "    # Add days elapsed from 1900\n",
    "    matches.tourney_date = pd.to_datetime(matches.tourney_date.astype(\"str\"))\n",
    "    matches[\"days_elapsed_date\"] = (matches.tourney_date - pd.to_datetime(\"19000101\")).dt.days\n",
    "\n",
    "    # Removing missing birthday players for now\n",
    "    players.dob = pd.to_datetime(players.dob.astype(\"str\"), errors=\"coerce\")\n",
    "    players = players[~players.dob.isna()].reset_index(drop=True)\n",
    "    players[\"days_elapsed_dob\"] = (players.dob - pd.to_datetime(\"19000101\")).dt.days\n",
    "    players[\"last_match_date\"] = [\n",
    "        matches[matches.winner_id.eq(r.player_id) | matches.loser_id.eq(r.player_id)].days_elapsed_date.max()\n",
    "        for r in players.itertuples()\n",
    "    ]\n",
    "\n",
    "    # Remove matches with players with unknown birthdays\n",
    "    matches = matches.loc[\n",
    "        matches.winner_id.isin(players.player_id)\n",
    "        & matches.loser_id.isin(players.player_id)\n",
    "    ].reset_index(drop=True)\n",
    "\n",
    "    with open(\"processed_data.pkl\", \"wb\") as f:\n",
    "        pickle.dump((players, matches), f)"
   ]
  },
  {
   "cell_type": "code",
   "execution_count": 11,
   "metadata": {},
   "outputs": [],
   "source": [
    "class MatchDataset(Dataset):\n",
    "\n",
    "    def __init__(self, matches, players, t_interface, m_interface, s_interface):\n",
    "\n",
    "        super().__init__()\n",
    "\n",
    "        self.matches = matches\n",
    "        self.players = players\n",
    "\n",
    "        # The idea here is to specify what data you want and in what form.\n",
    "        self.t_interface = t_interface\n",
    "        self.m_interface = m_interface\n",
    "        self.s_interface = s_interface\n",
    "\n",
    "        # Make an index\n",
    "        self.index = (\n",
    "            [(row, row.winner_id) for row in self.matches.itertuples()] \n",
    "            + [(row, row.loser_id) for row in self.matches.itertuples()] \n",
    "        )\n",
    "\n",
    "    def __len__(self):\n",
    "        return len(self.index)\n",
    "\n",
    "    def _apply_interface(self, interface, dt):\n",
    "\n",
    "        return [\n",
    "            torch.tensor([(v[1][1] - dt[col]) / (v[1][1] - v[1][0]) for col, v in interface.numeric().items()], dtype=torch.float).unsqueeze(0),\n",
    "            torch.tensor([dt[col].item() for col in interface.time()], dtype=torch.float).unsqueeze(0),\n",
    "            torch.tensor([v[1][dt[col].item()] for col, v in interface.categorical().items()], dtype=torch.int).unsqueeze(0),\n",
    "        ]\n",
    "\n",
    "    def __getitem__(self, idx):\n",
    "\n",
    "        match, player_id = self.index[idx]\n",
    "        match_date = match.days_elapsed_date\n",
    "\n",
    "        # TKTK better ordering on matches.\n",
    "        player_matches = self.matches.loc[\n",
    "            (self.matches.winner_id.eq(player_id) | self.matches.loser_id.eq(player_id)) \n",
    "            & self.matches.days_elapsed_date.ge(match_date - 365) \n",
    "            & self.matches.days_elapsed_date.lt(match_date)\n",
    "        ]\n",
    "\n",
    "        # Get the player features\n",
    "        pfs = self.players.loc[players.player_id.eq(player_id)]\n",
    "        p_features = self._apply_interface(self.t_interface, pfs)\n",
    "\n",
    "        # Get the match features\n",
    "        m_features = self._apply_interface(self.m_interface, match)\n",
    "\n",
    "        return \n",
    "\n",
    "        return {\n",
    "            \"match_features\": match,\n",
    "            \"match_history\": player_matches,\n",
    "            \"fixed_features\": player_fixed_features,\n",
    "        }"
   ]
  },
  {
   "cell_type": "code",
   "execution_count": 15,
   "metadata": {},
   "outputs": [
    {
     "data": {
      "text/plain": [
       "Index(['tourney_id', 'tourney_name', 'surface', 'draw_size', 'tourney_level',\n",
       "       'tourney_date', 'match_num', 'winner_id', 'winner_seed', 'winner_entry',\n",
       "       'winner_name', 'winner_hand', 'winner_ht', 'winner_ioc', 'winner_age',\n",
       "       'loser_id', 'loser_seed', 'loser_entry', 'loser_name', 'loser_hand',\n",
       "       'loser_ht', 'loser_ioc', 'loser_age', 'score', 'best_of', 'round',\n",
       "       'minutes', 'w_ace', 'w_df', 'w_svpt', 'w_1stIn', 'w_1stWon', 'w_2ndWon',\n",
       "       'w_SvGms', 'w_bpSaved', 'w_bpFaced', 'l_ace', 'l_df', 'l_svpt',\n",
       "       'l_1stIn', 'l_1stWon', 'l_2ndWon', 'l_SvGms', 'l_bpSaved', 'l_bpFaced',\n",
       "       'winner_rank', 'winner_rank_points', 'loser_rank', 'loser_rank_points',\n",
       "       'days_elapsed_date'],\n",
       "      dtype='object')"
      ]
     },
     "execution_count": 15,
     "metadata": {},
     "output_type": "execute_result"
    }
   ],
   "source": [
    "matches.columns"
   ]
  },
  {
   "cell_type": "code",
   "execution_count": null,
   "metadata": {},
   "outputs": [],
   "source": [
    "pi = DataInterface({\"hand\": \"categorical\", \"days_elapsed_dob\": \"time\"})\n",
    "mi = DataInterface(\n",
    "    {\n",
    "        \"surface\": \"categorical\",\n",
    "        \"tourney_level\": \"categorical\",\n",
    "        \"round\": \"categorical\",\n",
    "        \"days_elapsed_date\": \"time\"\n",
    "    }\n",
    ")"
   ]
  },
  {
   "cell_type": "code",
   "execution_count": 12,
   "metadata": {},
   "outputs": [],
   "source": [
    "ds = MatchDataset(matches, players, pi, None, None)"
   ]
  },
  {
   "cell_type": "code",
   "execution_count": 13,
   "metadata": {},
   "outputs": [
    {
     "data": {
      "text/plain": [
       "[tensor([], size=(1, 0)), tensor([[19018.]]), tensor([[0]], dtype=torch.int32)]"
      ]
     },
     "execution_count": 13,
     "metadata": {},
     "output_type": "execute_result"
    }
   ],
   "source": [
    "ds[20_001]"
   ]
  },
  {
   "cell_type": "code",
   "execution_count": 6,
   "metadata": {},
   "outputs": [],
   "source": [
    "pi.complete(players)"
   ]
  },
  {
   "cell_type": "code",
   "execution_count": 16,
   "metadata": {},
   "outputs": [
    {
     "data": {
      "text/plain": [
       "{'numeric': 0, 'time': 1, 'categorical': 1}"
      ]
     },
     "execution_count": 16,
     "metadata": {},
     "output_type": "execute_result"
    }
   ],
   "source": [
    "pi.type_sizes()"
   ]
  },
  {
   "cell_type": "code",
   "execution_count": 18,
   "metadata": {},
   "outputs": [
    {
     "data": {
      "text/plain": [
       "{}"
      ]
     },
     "execution_count": 18,
     "metadata": {},
     "output_type": "execute_result"
    }
   ],
   "source": [
    "pi.numeric()"
   ]
  },
  {
   "cell_type": "code",
   "execution_count": 20,
   "metadata": {},
   "outputs": [
    {
     "data": {
      "text/plain": [
       "{'hand': ('categorical', {'R': 0, 'L': 1, 'U': 2, 'A': 3, nan: 4})}"
      ]
     },
     "execution_count": 20,
     "metadata": {},
     "output_type": "execute_result"
    }
   ],
   "source": [
    "pi.categorical()"
   ]
  },
  {
   "cell_type": "code",
   "execution_count": null,
   "metadata": {},
   "outputs": [],
   "source": []
  }
 ],
 "metadata": {
  "kernelspec": {
   "display_name": "Python 3.9.2 64-bit",
   "language": "python",
   "name": "python3"
  },
  "language_info": {
   "codemirror_mode": {
    "name": "ipython",
    "version": 3
   },
   "file_extension": ".py",
   "mimetype": "text/x-python",
   "name": "python",
   "nbconvert_exporter": "python",
   "pygments_lexer": "ipython3",
   "version": "3.9.2"
  },
  "orig_nbformat": 4,
  "vscode": {
   "interpreter": {
    "hash": "916dbcbb3f70747c44a77c7bcd40155683ae19c65e1c03b4aa3499c5328201f1"
   }
  }
 },
 "nbformat": 4,
 "nbformat_minor": 2
}
