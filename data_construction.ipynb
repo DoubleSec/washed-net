{
 "cells": [
  {
   "cell_type": "code",
   "execution_count": 1,
   "metadata": {},
   "outputs": [],
   "source": [
    "from wn.data import prepare_matches, DataInterface\n",
    "import pandas as pd\n",
    "import numpy as np\n",
    "\n",
    "import torch\n",
    "from torch.utils.data import Dataset\n",
    "from torch import nn\n",
    "\n",
    "import pickle\n",
    "import os"
   ]
  },
  {
   "cell_type": "markdown",
   "metadata": {},
   "source": [
    "So the idea is to:\n",
    "\n",
    "  1) Sample a random match\n",
    "  2) Identify both players\n",
    "  3) Retrieve their fixed tabular features\n",
    "  4) Add the match time to the tabular features\n",
    "  4) Retrieve the players' last *n* matches\n",
    "  5) Predict for both players (separately)"
   ]
  },
  {
   "cell_type": "code",
   "execution_count": 2,
   "metadata": {},
   "outputs": [],
   "source": [
    "if os.path.exists(\"processed_data.pkl\"):\n",
    "\n",
    "    with open(\"processed_data.pkl\", \"rb\") as f:\n",
    "        players, matches = pickle.load(f)\n",
    "\n",
    "else:\n",
    "\n",
    "    match_list = [f\"../tennis_atp/atp_matches_{year}.csv\" for year in range(1968, 2018)]\n",
    "    matches = prepare_matches(match_list)\n",
    "\n",
    "    players = pd.read_csv(\"../tennis_atp/atp_players.csv\")\n",
    "    \n",
    "    # Add days elapsed from 1900\n",
    "    matches.tourney_date = pd.to_datetime(matches.tourney_date.astype(\"str\"))\n",
    "    matches[\"days_elapsed_date\"] = (matches.tourney_date - pd.to_datetime(\"19000101\")).dt.days\n",
    "\n",
    "    # Removing missing birthday players for now\n",
    "    players.dob = pd.to_datetime(players.dob.astype(\"str\"), errors=\"coerce\")\n",
    "    players = players[~players.dob.isna()].reset_index(drop=True)\n",
    "    players[\"days_elapsed_dob\"] = (players.dob - pd.to_datetime(\"19000101\")).dt.days\n",
    "    players[\"last_match_date\"] = [\n",
    "        matches[matches.winner_id.eq(r.player_id) | matches.loser_id.eq(r.player_id)].days_elapsed_date.max()\n",
    "        for r in players.itertuples()\n",
    "    ]\n",
    "\n",
    "    # Remove matches with players with unknown birthdays\n",
    "    matches = matches.loc[\n",
    "        matches.winner_id.isin(players.player_id)\n",
    "        & matches.loser_id.isin(players.player_id)\n",
    "    ].reset_index(drop=True)\n",
    "\n",
    "    with open(\"processed_data.pkl\", \"wb\") as f:\n",
    "        pickle.dump((players, matches), f)"
   ]
  },
  {
   "cell_type": "code",
   "execution_count": 3,
   "metadata": {},
   "outputs": [],
   "source": [
    "desired_cols = [\n",
    "    \"winner_rank\",\n",
    "    \"winner_hand\",\n",
    "    \"loser_rank\",\n",
    "    \"loser_hand\",\n",
    "    \"surface\",\n",
    "    \"tourney_level\",\n",
    "    \"days_elapsed_date\",\n",
    "]\n",
    "\n",
    "augmented_matches = (\n",
    "    matches\n",
    "    .merge(players, \"inner\", left_on=\"winner_id\", right_on=\"player_id\")\n",
    "    .loc[:, desired_cols + [\"days_elapsed_dob\", \"loser_id\"]]\n",
    "    .rename({\"days_elapsed_dob\": \"winner_dob\"}, axis=1)\n",
    "    .merge(players, \"inner\", left_on=\"loser_id\", right_on=\"player_id\")\n",
    "    .loc[:, desired_cols + [\"winner_dob\", \"days_elapsed_dob\"]]\n",
    "    .rename({\"days_elapsed_dob\": \"loser_dob\"}, axis=1)\n",
    ")"
   ]
  },
  {
   "cell_type": "code",
   "execution_count": 4,
   "metadata": {},
   "outputs": [],
   "source": [
    "winner_matches = augmented_matches[[\n",
    "    \"winner_rank\",\n",
    "    \"winner_hand\",\n",
    "    \"winner_dob\",\n",
    "    \"loser_rank\",\n",
    "    \"loser_hand\",\n",
    "    \"loser_dob\",\n",
    "    \"surface\",\n",
    "    \"tourney_level\",\n",
    "    \"days_elapsed_date\",\n",
    "]].fillna(-1).assign(won=1).rename({\n",
    "    \"winner_rank\": \"p1_rank\",\n",
    "    \"winner_hand\": \"p1_hand\",\n",
    "    \"winner_dob\": \"p1_dob\",\n",
    "    \"loser_rank\": \"p2_rank\",\n",
    "    \"loser_hand\": \"p2_hand\",\n",
    "    \"loser_dob\": \"p2_dob\",\n",
    "}, axis=1)\n",
    "\n",
    "loser_matches = augmented_matches[[\n",
    "    \"loser_rank\",\n",
    "    \"loser_hand\",\n",
    "    \"loser_dob\",\n",
    "    \"winner_rank\",\n",
    "    \"winner_hand\",\n",
    "    \"winner_dob\",\n",
    "    \"surface\",\n",
    "    \"tourney_level\",\n",
    "    \"days_elapsed_date\",\n",
    "]].fillna(-1).assign(won=0).rename({\n",
    "    \"loser_rank\": \"p1_rank\",\n",
    "    \"loser_hand\": \"p1_hand\",\n",
    "    \"loser_dob\": \"p1_dob\",\n",
    "    \"winner_rank\": \"p2_rank\",\n",
    "    \"winner_hand\": \"p2_hand\",\n",
    "    \"winner_dob\": \"p2_dob\",\n",
    "}, axis=1)\n",
    "\n",
    "condensed_matches = pd.concat([winner_matches, loser_matches])"
   ]
  },
  {
   "cell_type": "code",
   "execution_count": 5,
   "metadata": {},
   "outputs": [],
   "source": [
    "match_interface = DataInterface({\n",
    "    \"p1_rank\": \"numeric\",\n",
    "    \"p1_hand\": \"categorical\",\n",
    "    \"p1_dob\": \"time\",\n",
    "    \"p2_rank\": \"numeric\",\n",
    "    \"p2_hand\": \"categorical\",\n",
    "    \"p2_dob\": \"time\",\n",
    "    \"surface\": \"categorical\",\n",
    "    \"tourney_level\": \"categorical\",\n",
    "    \"days_elapsed_date\": \"time\",\n",
    "})\n",
    "\n",
    "match_interface.complete(condensed_matches)"
   ]
  },
  {
   "cell_type": "code",
   "execution_count": 8,
   "metadata": {},
   "outputs": [],
   "source": [
    "def tr(dt, col_name, interface):\n",
    "\n",
    "    print(f\"Encoding {col_name}\")\n",
    "\n",
    "    if interface[col_name][0] == \"numeric\":\n",
    "\n",
    "        q = interface[col_name][2]\n",
    "\n",
    "        dt = torch.tensor(dt.to_numpy(), dtype=torch.float)\n",
    "        # How many positions should be =1?\n",
    "        filled = torch.searchsorted(q, dt)\n",
    "\n",
    "        encoded = torch.zeros([filled.shape[0], q.shape[0]])\n",
    "\n",
    "        # There must be a better way to do this.\n",
    "        for i, n in enumerate(filled):\n",
    "            encoded[i, 0:n] = 1\n",
    "            if n > 0:\n",
    "                encoded[i, n] = (dt[i] - q[n-1]) / (q[n] - q[n-1])\n",
    "\n",
    "        return encoded\n",
    "\n",
    "    elif interface[col_name][0] == \"time\":\n",
    "        return torch.tensor(dt.to_numpy(), dtype=torch.float)\n",
    "\n",
    "    else:\n",
    "        return torch.tensor(\n",
    "            [interface[col_name][1][x] for x in dt.to_numpy()],\n",
    "            dtype=torch.int\n",
    "        )"
   ]
  },
  {
   "cell_type": "code",
   "execution_count": 9,
   "metadata": {},
   "outputs": [
    {
     "name": "stdout",
     "output_type": "stream",
     "text": [
      "Encoding p1_rank\n",
      "Encoding p1_hand\n",
      "Encoding p1_dob\n",
      "Encoding p2_rank\n",
      "Encoding p2_hand\n",
      "Encoding p2_dob\n",
      "Encoding surface\n",
      "Encoding tourney_level\n",
      "Encoding days_elapsed_date\n"
     ]
    }
   ],
   "source": [
    "# Now rather expensive to encode, needs to be saved\n",
    "input_data = {\n",
    "    k: tr(condensed_matches[k], k, match_interface) \n",
    "    for k in match_interface.type_map\n",
    "}"
   ]
  },
  {
   "cell_type": "code",
   "execution_count": 12,
   "metadata": {},
   "outputs": [
    {
     "data": {
      "text/plain": [
       "{'p1_rank': (torch.Size([339018, 16]), torch.float32),\n",
       " 'p1_hand': (torch.Size([339018]), torch.int32),\n",
       " 'p1_dob': (torch.Size([339018]), torch.float32),\n",
       " 'p2_rank': (torch.Size([339018, 16]), torch.float32),\n",
       " 'p2_hand': (torch.Size([339018]), torch.int32),\n",
       " 'p2_dob': (torch.Size([339018]), torch.float32),\n",
       " 'surface': (torch.Size([339018]), torch.int32),\n",
       " 'tourney_level': (torch.Size([339018]), torch.int32),\n",
       " 'days_elapsed_date': (torch.Size([339018]), torch.float32)}"
      ]
     },
     "execution_count": 12,
     "metadata": {},
     "output_type": "execute_result"
    }
   ],
   "source": [
    "{k: (v.shape, v.dtype) for k, v in input_data.items()}"
   ]
  },
  {
   "cell_type": "code",
   "execution_count": 13,
   "metadata": {},
   "outputs": [],
   "source": [
    "with open(\"tensor_list.pkl\", \"wb\") as f:\n",
    "        pickle.dump(input_data, f)"
   ]
  },
  {
   "cell_type": "code",
   "execution_count": null,
   "metadata": {},
   "outputs": [],
   "source": [
    "# This class needs to get replaced.\n",
    "class MatchDataset(Dataset):\n",
    "\n",
    "    def __init__(self, matches):\n",
    "\n",
    "        super().__init__()\n",
    "\n",
    "        self.matches = matches\n",
    "        self.players = players\n",
    "\n",
    "        # The idea here is to specify what data you want and in what form.\n",
    "        self.t_interface = t_interface\n",
    "        self.m_interface = m_interface\n",
    "        self.s_interface = s_interface\n",
    "\n",
    "        # Make an index\n",
    "        self.index = (\n",
    "            [(row, row.winner_id) for row in self.matches.itertuples()] \n",
    "            + [(row, row.loser_id) for row in self.matches.itertuples()] \n",
    "        )\n",
    "\n",
    "    def __len__(self):\n",
    "        return len(self.index)\n",
    "\n",
    "    def _apply_interface(self, interface, dt):\n",
    "\n",
    "        return [\n",
    "            torch.tensor([(v[1][1] - dt[col]) / (v[1][1] - v[1][0]) for col, v in interface.numeric().items()], dtype=torch.float).unsqueeze(0),\n",
    "            torch.tensor([dt[col].item() for col in interface.time()], dtype=torch.float).unsqueeze(0),\n",
    "            torch.tensor([v[1][dt[col].item()] for col, v in interface.categorical().items()], dtype=torch.int).unsqueeze(0),\n",
    "        ]\n",
    "\n",
    "    def __getitem__(self, idx):\n",
    "\n",
    "        match, player_id = self.index[idx]\n",
    "        match_date = match.days_elapsed_date\n",
    "\n",
    "        # TKTK better ordering on matches.\n",
    "        player_matches = self.matches.loc[\n",
    "            (self.matches.winner_id.eq(player_id) | self.matches.loser_id.eq(player_id)) \n",
    "            & self.matches.days_elapsed_date.ge(match_date - 365) \n",
    "            & self.matches.days_elapsed_date.lt(match_date)\n",
    "        ]\n",
    "\n",
    "        # Get the player features\n",
    "        pfs = self.players.loc[players.player_id.eq(player_id)]\n",
    "        p_features = self._apply_interface(self.t_interface, pfs)\n",
    "\n",
    "        # Get the match features\n",
    "        # m_features = self._apply_interface(self.m_interface, match)\n",
    "\n",
    "        # return \n",
    "\n",
    "        return {\n",
    "            \"match_features\": match,\n",
    "            \"match_history\": player_matches,\n",
    "            # \"fixed_features\": player_fixed_features,\n",
    "        }"
   ]
  },
  {
   "cell_type": "code",
   "execution_count": null,
   "metadata": {},
   "outputs": [],
   "source": [
    "ds = MatchDataset(matches, players, pi, None, None)"
   ]
  }
 ],
 "metadata": {
  "kernelspec": {
   "display_name": "Python 3.9.2 64-bit",
   "language": "python",
   "name": "python3"
  },
  "language_info": {
   "codemirror_mode": {
    "name": "ipython",
    "version": 3
   },
   "file_extension": ".py",
   "mimetype": "text/x-python",
   "name": "python",
   "nbconvert_exporter": "python",
   "pygments_lexer": "ipython3",
   "version": "3.9.2"
  },
  "orig_nbformat": 4,
  "vscode": {
   "interpreter": {
    "hash": "916dbcbb3f70747c44a77c7bcd40155683ae19c65e1c03b4aa3499c5328201f1"
   }
  }
 },
 "nbformat": 4,
 "nbformat_minor": 2
}
