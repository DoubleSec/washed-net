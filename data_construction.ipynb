{
 "cells": [
  {
   "cell_type": "code",
   "execution_count": null,
   "metadata": {},
   "outputs": [],
   "source": [
    "from wn.data import prepare_matches, DataInterface, tr\n",
    "import pandas as pd\n",
    "import numpy as np\n",
    "\n",
    "import torch\n",
    "from torch.utils.data import Dataset\n",
    "from torch import nn\n",
    "\n",
    "import pickle\n",
    "import os"
   ]
  },
  {
   "cell_type": "markdown",
   "metadata": {},
   "source": [
    "### This needs to be organized still."
   ]
  },
  {
   "cell_type": "code",
   "execution_count": null,
   "metadata": {},
   "outputs": [],
   "source": [
    "if os.path.exists(\"data/processed_data.pkl\"):\n",
    "\n",
    "    with open(\"data/processed_data.pkl\", \"rb\") as f:\n",
    "        players, matches = pickle.load(f)\n",
    "\n",
    "else:\n",
    "\n",
    "    print(\"Loading match list\")\n",
    "    match_list = [f\"../tennis_atp/atp_matches_{year}.csv\" for year in range(1968, 2018)]\n",
    "    matches = prepare_matches(match_list)\n",
    "\n",
    "    print(\"Loading players\")\n",
    "    players = pd.read_csv(\"../tennis_atp/atp_players.csv\")\n",
    "    \n",
    "    # Add days elapsed from 1900\n",
    "    print(\"Transforming match dates\")\n",
    "    matches.tourney_date = pd.to_datetime(matches.tourney_date.astype(\"str\"))\n",
    "    matches[\"days_elapsed_date\"] = (matches.tourney_date - pd.to_datetime(\"19000101\")).dt.days\n",
    "\n",
    "    # Removing missing birthday players for now\n",
    "    print(\"Transforming birth dates and removing missing\")\n",
    "    players.dob = pd.to_datetime(players.dob.astype(\"str\"), errors=\"coerce\")\n",
    "    players = players[~players.dob.isna()].reset_index(drop=True)\n",
    "    players[\"days_elapsed_dob\"] = (players.dob - pd.to_datetime(\"19000101\")).dt.days\n",
    "    # players[\"last_match_date\"] = [\n",
    "    #     matches[matches.winner_id.eq(r.player_id) | matches.loser_id.eq(r.player_id)].days_elapsed_date.max()\n",
    "    #     for r in players.itertuples()\n",
    "    # ]\n",
    "\n",
    "    # Remove matches with players with unknown birthdays\n",
    "    matches = matches.loc[\n",
    "        matches.winner_id.isin(players.player_id)\n",
    "        & matches.loser_id.isin(players.player_id)\n",
    "    ].reset_index(drop=True)\n",
    "\n",
    "    # (Hopefully temporarily) remove matches where neither player has\n",
    "    # a known rank\n",
    "    print(\"Removing missing ranks\")\n",
    "    matches = matches.loc[\n",
    "        ~matches.winner_rank.isna() | ~matches.loser_rank.isna()\n",
    "    ].reset_index(drop=True)\n",
    "\n",
    "    print(\"Saving processed data\")\n",
    "    with open(\"data/processed_data.pkl\", \"wb\") as f:\n",
    "        pickle.dump((players, matches), f)"
   ]
  },
  {
   "cell_type": "code",
   "execution_count": null,
   "metadata": {},
   "outputs": [],
   "source": [
    "desired_cols = [\n",
    "    \"winner_rank\",\n",
    "    \"winner_hand\",\n",
    "    \"loser_rank\",\n",
    "    \"loser_hand\",\n",
    "    \"surface\",\n",
    "    \"tourney_level\",\n",
    "    \"days_elapsed_date\",\n",
    "]\n",
    "\n",
    "augmented_matches = (\n",
    "    matches\n",
    "    .merge(players, \"inner\", left_on=\"winner_id\", right_on=\"player_id\")\n",
    "    .loc[:, desired_cols + [\"days_elapsed_dob\", \"loser_id\"]]\n",
    "    .rename({\"days_elapsed_dob\": \"winner_dob\"}, axis=1)\n",
    "    .merge(players, \"inner\", left_on=\"loser_id\", right_on=\"player_id\")\n",
    "    .loc[:, desired_cols + [\"winner_dob\", \"days_elapsed_dob\"]]\n",
    "    .rename({\"days_elapsed_dob\": \"loser_dob\"}, axis=1)\n",
    ")"
   ]
  },
  {
   "cell_type": "code",
   "execution_count": null,
   "metadata": {},
   "outputs": [],
   "source": [
    "winner_matches = augmented_matches[[\n",
    "    \"winner_rank\",\n",
    "    \"winner_hand\",\n",
    "    \"winner_dob\",\n",
    "    \"loser_rank\",\n",
    "    \"loser_hand\",\n",
    "    \"loser_dob\",\n",
    "    \"surface\",\n",
    "    \"tourney_level\",\n",
    "    \"days_elapsed_date\",\n",
    "]].fillna(-1).assign(won=1).rename({\n",
    "    \"winner_rank\": \"p1_rank\",\n",
    "    \"winner_hand\": \"p1_hand\",\n",
    "    \"winner_dob\": \"p1_dob\",\n",
    "    \"loser_rank\": \"p2_rank\",\n",
    "    \"loser_hand\": \"p2_hand\",\n",
    "    \"loser_dob\": \"p2_dob\",\n",
    "}, axis=1)\n",
    "\n",
    "loser_matches = augmented_matches[[\n",
    "    \"loser_rank\",\n",
    "    \"loser_hand\",\n",
    "    \"loser_dob\",\n",
    "    \"winner_rank\",\n",
    "    \"winner_hand\",\n",
    "    \"winner_dob\",\n",
    "    \"surface\",\n",
    "    \"tourney_level\",\n",
    "    \"days_elapsed_date\",\n",
    "]].fillna(-1).assign(won=0).rename({\n",
    "    \"loser_rank\": \"p1_rank\",\n",
    "    \"loser_hand\": \"p1_hand\",\n",
    "    \"loser_dob\": \"p1_dob\",\n",
    "    \"winner_rank\": \"p2_rank\",\n",
    "    \"winner_hand\": \"p2_hand\",\n",
    "    \"winner_dob\": \"p2_dob\",\n",
    "}, axis=1)\n",
    "\n",
    "condensed_matches = pd.concat([winner_matches, loser_matches])"
   ]
  },
  {
   "cell_type": "code",
   "execution_count": null,
   "metadata": {},
   "outputs": [],
   "source": [
    "match_interface = DataInterface({\n",
    "    \"p1_rank\": \"numeric\",\n",
    "    \"p1_hand\": \"categorical\",\n",
    "    \"p1_dob\": \"time\",\n",
    "    \"p2_rank\": \"numeric\",\n",
    "    \"p2_hand\": \"categorical\",\n",
    "    \"p2_dob\": \"time\",\n",
    "    \"surface\": \"categorical\",\n",
    "    \"tourney_level\": \"categorical\",\n",
    "    \"days_elapsed_date\": \"time\",\n",
    "})\n",
    "\n",
    "match_interface.complete(condensed_matches)"
   ]
  },
  {
   "cell_type": "code",
   "execution_count": null,
   "metadata": {},
   "outputs": [],
   "source": [
    "# Save the interface\n",
    "with open(\"data/match_interface.pkl\", \"wb\") as f:\n",
    "    pickle.dump(match_interface, f)"
   ]
  },
  {
   "cell_type": "code",
   "execution_count": null,
   "metadata": {},
   "outputs": [],
   "source": [
    "# Now rather expensive to encode, needs to be saved\n",
    "input_data = {\n",
    "    k: tr(condensed_matches[k], k, match_interface) \n",
    "    for k in match_interface.type_map\n",
    "}\n",
    "\n",
    "# Also save the labels\n",
    "y = torch.tensor(\n",
    "    condensed_matches.won.to_numpy(), dtype=torch.float\n",
    ").unsqueeze(1)"
   ]
  },
  {
   "cell_type": "code",
   "execution_count": null,
   "metadata": {},
   "outputs": [],
   "source": [
    "# Save the tensor dict and labels\n",
    "with open(\"data/tensor_list.pkl\", \"wb\") as f:\n",
    "    pickle.dump((input_data, y), f)"
   ]
  }
 ],
 "metadata": {
  "kernelspec": {
   "display_name": "Python 3.9.2 64-bit",
   "language": "python",
   "name": "python3"
  },
  "language_info": {
   "codemirror_mode": {
    "name": "ipython",
    "version": 3
   },
   "file_extension": ".py",
   "mimetype": "text/x-python",
   "name": "python",
   "nbconvert_exporter": "python",
   "pygments_lexer": "ipython3",
   "version": "3.9.2"
  },
  "orig_nbformat": 4,
  "vscode": {
   "interpreter": {
    "hash": "916dbcbb3f70747c44a77c7bcd40155683ae19c65e1c03b4aa3499c5328201f1"
   }
  }
 },
 "nbformat": 4,
 "nbformat_minor": 2
}
